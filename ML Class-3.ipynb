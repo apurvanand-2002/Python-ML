{
 "cells": [
  {
   "cell_type": "markdown",
   "id": "e8b75b53",
   "metadata": {},
   "source": [
    "# Sending Email in Python"
   ]
  },
  {
   "cell_type": "code",
   "execution_count": 1,
   "id": "8f3e22ba",
   "metadata": {},
   "outputs": [],
   "source": [
    "import smtplib\n",
    "import getpass\n",
    "from email.mime.text import MIMEText\n",
    "def send_email():\n",
    "    sender_address=\"apurvanand.2002@gmail.com\"\n",
    "    print(\"Enter password\")\n",
    "    password=getpass.getpass()\n",
    "    subject=\"Learning Python to send emails\"\n",
    "    message='''\n",
    "    I am learning to send emails using python .\n",
    "    Thanks !\n",
    "    '''\n",
    "    #server initialization\n",
    "    server=smtplib.SMTP('smtp.gmail.com',587)\n",
    "    server.starttls()\n",
    "    server.login(sender_address,password)\n",
    "    \n",
    "    #drafting message body\n",
    "    message=MIMEText(message)\n",
    "    message['Subject']=subject\n",
    "    message['From']=sender_address\n",
    "    recipients=\"apurvanand.2002@gmail.com\"\n",
    "    message['To']=\",\".join(recipients)\n",
    "    message.set_param('importance','high value')\n",
    "    \n",
    "    server.sendmail(sender_address,recipients,message.as_string())\n",
    "    \n",
    "    \n",
    "    \n",
    "send_email()"
   ]
  },
  {
   "cell_type": "markdown",
   "id": "15bae468",
   "metadata": {},
   "source": [
    "# Web Scrapper"
   ]
  },
  {
   "cell_type": "code",
   "execution_count": 41,
   "id": "e9bcb5d8",
   "metadata": {},
   "outputs": [
    {
     "name": "stdout",
     "output_type": "stream",
     "text": [
      "['September 2021', 'June 2021', 'May 2021', 'April 2021', 'March 2021', 'February 2021', 'January 2021', 'December 2020', 'November 2020', 'October 2020', 'September 2020', 'May 2020', 'April 2020', 'March 2020', 'February 2020', 'January 2020', 'December 2019', 'November 2019', 'October 2019', 'September 2019', 'May 2019', 'April 2019', 'March 2019', 'February 2019', 'January 2019', 'December 2018', 'November 2018', 'October 2018', 'September 2018', 'June 2018', 'May 2018', 'April 2018', 'March 2018', 'February 2018']\n"
     ]
    }
   ],
   "source": [
    "from bs4 import BeautifulSoup\n",
    "import requests\n",
    "import pandas as pd\n",
    "from pandas import Series,DataFrame\n",
    "url='https://www.studentnewsdaily.com/archive/daily-news-article/'\n",
    "#calling API server using request module\n",
    "result=requests.get(url)\n",
    "soup=BeautifulSoup(result.content,'lxml')\n",
    "content=soup.findAll('section')\n",
    "summary=content[1].find(class_='col-md-10 col-lg-10 col-xl-10')\n",
    "l=summary.findAll('h4')\n",
    "series=[ele.get_text() for ele in l]\n",
    "print(series)"
   ]
  },
  {
   "cell_type": "markdown",
   "id": "92b26799",
   "metadata": {},
   "source": [
    "# Image scrapping"
   ]
  },
  {
   "cell_type": "code",
   "execution_count": 2,
   "id": "77985c7a",
   "metadata": {},
   "outputs": [
    {
     "name": "stdout",
     "output_type": "stream",
     "text": [
      "https://www.creativeshrimp.com/wp-content/uploads/2015/11/beeple_thumbnail_01_1.jpg\n",
      "loop break\n",
      "96.jpg\n",
      "https://www.creativeshrimp.com/wp-content/uploads/2015/11/SPORTFUCK.jpg\n",
      "loop break\n",
      "441.jpg\n",
      "https://www.creativeshrimp.com/wp-content/uploads/2015/11/MCD-2087.jpg\n",
      "loop break\n",
      "318.jpg\n",
      "https://www.creativeshrimp.com/wp-content/uploads/2015/11/burttn-coper-e1447256280215.jpg\n",
      "loop break\n",
      "298.jpg\n",
      "https://www.creativeshrimp.com/wp-content/uploads/2015/11/ACRYLIC-DISPERSION.jpg\n",
      "loop break\n",
      "264.jpg\n",
      "https://www.creativeshrimp.com/wp-content/uploads/2015/11/DEM-CUBES-e1447256293476.jpg\n",
      "loop break\n",
      "394.jpg\n",
      "https://www.creativeshrimp.com/wp-content/uploads/2015/11/BAF.1981.jpg\n",
      "loop break\n",
      "177.jpg\n",
      "https://www.creativeshrimp.com/wp-content/uploads/2015/11/EIGHT-YEARS.jpg\n",
      "loop break\n",
      "339.jpg\n",
      "https://www.creativeshrimp.com/wp-content/uploads/2015/11/ELEVEN.jpg\n",
      "loop break\n",
      "179.jpg\n",
      "https://www.creativeshrimp.com/wp-content/uploads/2015/11/FLOOR-100.jpg\n",
      "loop break\n",
      "497.jpg\n",
      "https://www.creativeshrimp.com/wp-content/uploads/2015/11/GOD-FIVE.jpg\n",
      "loop break\n",
      "81.jpg\n",
      "https://www.creativeshrimp.com/wp-content/uploads/2015/11/heaven-and-hell.jpg\n",
      "loop break\n",
      "379.jpg\n",
      "https://www.creativeshrimp.com/wp-content/uploads/2015/11/metallurgy.jpg\n",
      "loop break\n",
      "409.jpg\n",
      "https://www.creativeshrimp.com/wp-content/uploads/2015/11/NUCLEAR-FAMILY.jpg\n",
      "loop break\n",
      "376.jpg\n",
      "https://www.creativeshrimp.com/wp-content/uploads/2015/11/NUMBER-TWO.jpg\n",
      "loop break\n",
      "419.jpg\n",
      "https://www.creativeshrimp.com/wp-content/uploads/2015/11/OB.TANK_.jpg\n",
      "loop break\n",
      "344.jpg\n",
      "https://www.creativeshrimp.com/wp-content/uploads/2015/11/ONE-FOOT.jpg\n",
      "loop break\n",
      "89.jpg\n",
      "https://www.creativeshrimp.com/wp-content/uploads/2015/11/ONE-MILLION.jpg\n",
      "loop break\n",
      "107.jpg\n",
      "https://www.creativeshrimp.com/wp-content/uploads/2015/11/recore..jpg\n",
      "loop break\n",
      "424.jpg\n",
      "https://www.creativeshrimp.com/wp-content/uploads/2015/11/soup-f.jpg\n",
      "loop break\n",
      "6.jpg\n",
      "https://www.creativeshrimp.com/wp-content/uploads/2015/11/SUPERBUG.jpg\n",
      "loop break\n",
      "391.jpg\n",
      "https://www.creativeshrimp.com/wp-content/uploads/2015/11/SWEET-TOOTH.jpg\n",
      "loop break\n",
      "201.jpg\n",
      "https://www.creativeshrimp.com/wp-content/uploads/2015/11/SYSTEMIC-ABERRATION.jpg\n",
      "loop break\n",
      "490.jpg\n",
      "https://www.creativeshrimp.com/wp-content/uploads/2015/11/T.VARIATIONS.jpg\n",
      "loop break\n",
      "215.jpg\n",
      "https://www.creativeshrimp.com/wp-content/uploads/2015/11/TEXTRIOUS.jpg\n",
      "loop break\n",
      "282.jpg\n",
      "https://www.creativeshrimp.com/wp-content/uploads/2015/11/TUNGSTEN.jpg\n",
      "loop break\n",
      "313.jpg\n",
      "https://www.creativeshrimp.com/wp-content/uploads/2015/11/U1.COMBINER.jpg\n",
      "loop break\n",
      "27.jpg\n",
      "https://www.creativeshrimp.com/wp-content/uploads/2015/11/VHC.01.jpg\n",
      "loop break\n",
      "211.jpg\n",
      "https://www.creativeshrimp.com/wp-content/uploads/2015/11/WINTERMIX.jpg\n",
      "loop break\n",
      "340.jpg\n",
      "https://www.creativeshrimp.com/wp-content/uploads/2015/11/YT.SUN-CITY08.jpg\n",
      "loop break\n",
      "399.jpg\n",
      "https://www.creativeshrimp.com/wp-content/uploads/2015/11/DAY-3000.jpg\n",
      "loop break\n",
      "258.jpg\n"
     ]
    }
   ],
   "source": [
    "import requests\n",
    "from bs4 import BeautifulSoup\n",
    "import urllib.request\n",
    "import random\n",
    "url='https://www.creativeshrimp.com/top-30-artworks-of-beeple.html'\n",
    "source_code=requests.get(url)\n",
    "plain_text=source_code.text\n",
    "soup=BeautifulSoup(plain_text)\n",
    "for link in soup.find_all(\"a\",{\"class\":\"lightbox\"}) :\n",
    "    href=link.get('href')\n",
    "    print(href)\n",
    "    img_name=random.randrange(1,500)    \n",
    "    full_name=str(img_name) +\".jpg\"\n",
    "    urllib.request.urlretrieve(href,full_name)\n",
    "    print(\"loop break\")\n",
    "    print(full_name)"
   ]
  },
  {
   "cell_type": "code",
   "execution_count": null,
   "id": "75e21a61",
   "metadata": {},
   "outputs": [],
   "source": []
  }
 ],
 "metadata": {
  "kernelspec": {
   "display_name": "Python 3 (ipykernel)",
   "language": "python",
   "name": "python3"
  },
  "language_info": {
   "codemirror_mode": {
    "name": "ipython",
    "version": 3
   },
   "file_extension": ".py",
   "mimetype": "text/x-python",
   "name": "python",
   "nbconvert_exporter": "python",
   "pygments_lexer": "ipython3",
   "version": "3.9.13"
  }
 },
 "nbformat": 4,
 "nbformat_minor": 5
}
