{
 "cells": [
  {
   "cell_type": "code",
   "execution_count": null,
   "id": "bfdec302",
   "metadata": {},
   "outputs": [],
   "source": []
  },
  {
   "cell_type": "code",
   "execution_count": 2,
   "id": "65b301d6",
   "metadata": {},
   "outputs": [],
   "source": [
    "import numpy as np"
   ]
  },
  {
   "cell_type": "code",
   "execution_count": 4,
   "id": "7ae27ba6",
   "metadata": {},
   "outputs": [],
   "source": [
    "arr=np.array([[1,2,3],[4,5,6]])"
   ]
  },
  {
   "cell_type": "code",
   "execution_count": 5,
   "id": "3e21a29b",
   "metadata": {},
   "outputs": [
    {
     "name": "stdout",
     "output_type": "stream",
     "text": [
      "[[1 2 3]\n",
      " [4 5 6]]\n"
     ]
    }
   ],
   "source": [
    "print(arr)"
   ]
  },
  {
   "cell_type": "code",
   "execution_count": 6,
   "id": "a8db1865",
   "metadata": {},
   "outputs": [
    {
     "data": {
      "text/plain": [
       "numpy.ndarray"
      ]
     },
     "execution_count": 6,
     "metadata": {},
     "output_type": "execute_result"
    }
   ],
   "source": [
    "type(arr)"
   ]
  },
  {
   "cell_type": "code",
   "execution_count": 7,
   "id": "89208b7e",
   "metadata": {},
   "outputs": [],
   "source": [
    "r=np.array([[1,2],[3,4],[5,6],[7,8],[9,10]])"
   ]
  },
  {
   "cell_type": "code",
   "execution_count": 8,
   "id": "6f2236d7",
   "metadata": {},
   "outputs": [
    {
     "name": "stdout",
     "output_type": "stream",
     "text": [
      "[[ 1  2]\n",
      " [ 3  4]\n",
      " [ 5  6]\n",
      " [ 7  8]\n",
      " [ 9 10]]\n"
     ]
    }
   ],
   "source": [
    "print(r)"
   ]
  },
  {
   "cell_type": "code",
   "execution_count": 9,
   "id": "add9f412",
   "metadata": {},
   "outputs": [
    {
     "data": {
      "text/plain": [
       "numpy.ndarray"
      ]
     },
     "execution_count": 9,
     "metadata": {},
     "output_type": "execute_result"
    }
   ],
   "source": [
    "type(r)"
   ]
  },
  {
   "cell_type": "code",
   "execution_count": 10,
   "id": "8d984bdb",
   "metadata": {},
   "outputs": [
    {
     "name": "stdout",
     "output_type": "stream",
     "text": [
      "2\n"
     ]
    }
   ],
   "source": [
    "print(arr.ndim)"
   ]
  },
  {
   "cell_type": "code",
   "execution_count": 11,
   "id": "51de1f72",
   "metadata": {},
   "outputs": [
    {
     "name": "stdout",
     "output_type": "stream",
     "text": [
      "[[1 2 3]\n",
      " [4 5 6]\n",
      " [7 8 9]]\n"
     ]
    }
   ],
   "source": [
    "import numpy\n",
    "e=numpy.array([[1,2,3],[4,5,6],[7,8,9]])\n",
    "print(e)"
   ]
  },
  {
   "cell_type": "code",
   "execution_count": 12,
   "id": "960c489e",
   "metadata": {},
   "outputs": [
    {
     "name": "stdout",
     "output_type": "stream",
     "text": [
      "2\n"
     ]
    }
   ],
   "source": [
    "print(e.ndim)"
   ]
  },
  {
   "cell_type": "code",
   "execution_count": 13,
   "id": "f5d1a8a3",
   "metadata": {},
   "outputs": [
    {
     "name": "stdout",
     "output_type": "stream",
     "text": [
      "(3, 3)\n"
     ]
    }
   ],
   "source": [
    "print(e.shape)"
   ]
  },
  {
   "cell_type": "code",
   "execution_count": 31,
   "id": "6512fe53",
   "metadata": {},
   "outputs": [
    {
     "name": "stdout",
     "output_type": "stream",
     "text": [
      "[1. 2. 3. 4. 5.]\n"
     ]
    }
   ],
   "source": [
    "import numpy\n",
    "f=numpy.array([1,2,3,4,5],dtype='float')\n",
    "print(f)"
   ]
  },
  {
   "cell_type": "code",
   "execution_count": 15,
   "id": "2bda0a3b",
   "metadata": {},
   "outputs": [
    {
     "name": "stdout",
     "output_type": "stream",
     "text": [
      "1\n"
     ]
    }
   ],
   "source": [
    "print(f.ndim)"
   ]
  },
  {
   "cell_type": "code",
   "execution_count": 16,
   "id": "ffcaa6d2",
   "metadata": {},
   "outputs": [
    {
     "name": "stdout",
     "output_type": "stream",
     "text": [
      "(5,)\n"
     ]
    }
   ],
   "source": [
    "print(f.shape)"
   ]
  },
  {
   "cell_type": "code",
   "execution_count": 17,
   "id": "58cb82e2",
   "metadata": {},
   "outputs": [
    {
     "name": "stdout",
     "output_type": "stream",
     "text": [
      "[[1 2 3]\n",
      " [4 5 6]]\n",
      "(2, 3)\n",
      "2\n"
     ]
    }
   ],
   "source": [
    "g=numpy.array([[1,2,3],[4,5,6]])\n",
    "print(g)\n",
    "print(g.shape)\n",
    "print(g.ndim)"
   ]
  },
  {
   "cell_type": "code",
   "execution_count": 18,
   "id": "571462a6",
   "metadata": {},
   "outputs": [
    {
     "name": "stdout",
     "output_type": "stream",
     "text": [
      "6\n"
     ]
    }
   ],
   "source": [
    "print(g.size)"
   ]
  },
  {
   "cell_type": "code",
   "execution_count": 19,
   "id": "93c908b7",
   "metadata": {},
   "outputs": [
    {
     "name": "stdout",
     "output_type": "stream",
     "text": [
      "int32\n"
     ]
    }
   ],
   "source": [
    "print(g.dtype)"
   ]
  },
  {
   "cell_type": "code",
   "execution_count": 20,
   "id": "fd258d88",
   "metadata": {},
   "outputs": [
    {
     "name": "stdout",
     "output_type": "stream",
     "text": [
      "[[ 1  2  3]\n",
      " [ 4  5  6]\n",
      " [ 7  8  9]\n",
      " [10 11 12]\n",
      " [13 14 15]]\n",
      "(5, 3)\n",
      "2\n",
      "int32\n",
      "15\n"
     ]
    }
   ],
   "source": [
    "import numpy\n",
    "y=numpy.array([[1,2,3],[4,5,6],[7,8,9],[10,11,12],[13,14,15]])\n",
    "print(y)\n",
    "print(y.shape)\n",
    "print(y.ndim)\n",
    "print(y.dtype)\n",
    "print(y.size)"
   ]
  },
  {
   "cell_type": "code",
   "execution_count": 23,
   "id": "e1995862",
   "metadata": {},
   "outputs": [
    {
     "name": "stdout",
     "output_type": "stream",
     "text": [
      "[[1. 2. 3. 4.]\n",
      " [5. 6. 7. 8.]]\n"
     ]
    }
   ],
   "source": [
    "e=numpy.array([[1,2,3,4],[5,6,7,8]],dtype='float')\n",
    "print(e)"
   ]
  },
  {
   "cell_type": "code",
   "execution_count": 24,
   "id": "e029fc8d",
   "metadata": {},
   "outputs": [
    {
     "name": "stdout",
     "output_type": "stream",
     "text": [
      "<class 'numpy.ndarray'>\n"
     ]
    }
   ],
   "source": [
    "print(type(e))"
   ]
  },
  {
   "cell_type": "code",
   "execution_count": 25,
   "id": "f7e514ef",
   "metadata": {},
   "outputs": [
    {
     "name": "stdout",
     "output_type": "stream",
     "text": [
      "<class 'list'>\n"
     ]
    }
   ],
   "source": [
    "print(type([[1,2,3,4],[5,6,7,8]]))"
   ]
  },
  {
   "cell_type": "code",
   "execution_count": 26,
   "id": "7feed12b",
   "metadata": {},
   "outputs": [
    {
     "name": "stdout",
     "output_type": "stream",
     "text": [
      "<class 'list'>\n"
     ]
    }
   ],
   "source": [
    "print(type([[1,2],[3,4]]))"
   ]
  },
  {
   "cell_type": "code",
   "execution_count": 32,
   "id": "1cc4f98f",
   "metadata": {},
   "outputs": [
    {
     "name": "stdout",
     "output_type": "stream",
     "text": [
      "[[1 2 3]\n",
      " [4 5 6]\n",
      " [7 8 9]]\n",
      "9\n",
      "(3, 3)\n",
      "2\n",
      "int32\n"
     ]
    }
   ],
   "source": [
    "import numpy\n",
    "t=numpy.array([[1,2,3],[4,5,6],[7,8,9]])\n",
    "print(t)\n",
    "print(t.size)\n",
    "print(t.shape)\n",
    "print(t.ndim)\n",
    "print(t.dtype)"
   ]
  },
  {
   "cell_type": "code",
   "execution_count": 34,
   "id": "26555c44",
   "metadata": {},
   "outputs": [
    {
     "name": "stdout",
     "output_type": "stream",
     "text": [
      "[[1 2]\n",
      " [3 4]\n",
      " [5 6]]\n"
     ]
    }
   ],
   "source": [
    "import numpy\n",
    "t=numpy.array([[1,2],[3,4],[5,6]],dtype='int')\n",
    "print(t)"
   ]
  },
  {
   "cell_type": "code",
   "execution_count": 35,
   "id": "2440eeed",
   "metadata": {},
   "outputs": [
    {
     "name": "stdout",
     "output_type": "stream",
     "text": [
      "[1 2 3 4]\n"
     ]
    }
   ],
   "source": [
    "import numpy\n",
    "a=numpy.array((1,2,3,4))\n",
    "print(a)"
   ]
  },
  {
   "cell_type": "code",
   "execution_count": 38,
   "id": "aef8a1f4",
   "metadata": {},
   "outputs": [
    {
     "name": "stdout",
     "output_type": "stream",
     "text": [
      "[[0. 0. 0. 0.]\n",
      " [0. 0. 0. 0.]\n",
      " [0. 0. 0. 0.]]\n"
     ]
    }
   ],
   "source": [
    "import numpy\n",
    "b=numpy.zeros((3,4))\n",
    "print(b)"
   ]
  },
  {
   "cell_type": "code",
   "execution_count": 45,
   "id": "d4fc1311",
   "metadata": {},
   "outputs": [
    {
     "name": "stdout",
     "output_type": "stream",
     "text": [
      "0.3684033573570633\n",
      "3\n"
     ]
    }
   ],
   "source": [
    "import random\n",
    "print(random.random())\n",
    "print(random.randint(1,3))"
   ]
  },
  {
   "cell_type": "code",
   "execution_count": 48,
   "id": "25d0ff14",
   "metadata": {},
   "outputs": [
    {
     "name": "stdout",
     "output_type": "stream",
     "text": [
      "[[1. 1. 1. 1. 1.]\n",
      " [1. 1. 1. 1. 1.]\n",
      " [1. 1. 1. 1. 1.]]\n"
     ]
    }
   ],
   "source": [
    "import numpy\n",
    "q=numpy.ones((3,5))\n",
    "print(q)"
   ]
  },
  {
   "cell_type": "code",
   "execution_count": 49,
   "id": "bcdb12de",
   "metadata": {},
   "outputs": [
    {
     "name": "stdout",
     "output_type": "stream",
     "text": [
      "[[1. 0. 0. 0.]\n",
      " [0. 1. 0. 0.]\n",
      " [0. 0. 1. 0.]\n",
      " [0. 0. 0. 1.]]\n"
     ]
    }
   ],
   "source": [
    "import numpy\n",
    "q=numpy.eye(4)\n",
    "print(q)"
   ]
  },
  {
   "cell_type": "code",
   "execution_count": 50,
   "id": "ffafb8cd",
   "metadata": {},
   "outputs": [],
   "source": [
    "import numpy\n",
    "q=numpy.ones?"
   ]
  },
  {
   "cell_type": "code",
   "execution_count": 52,
   "id": "0d2efe58",
   "metadata": {},
   "outputs": [
    {
     "data": {
      "text/plain": [
       "array([2, 4, 6, 8])"
      ]
     },
     "execution_count": 52,
     "metadata": {},
     "output_type": "execute_result"
    }
   ],
   "source": [
    "np.arange(2,9,2)"
   ]
  },
  {
   "cell_type": "code",
   "execution_count": 53,
   "id": "75877ed0",
   "metadata": {},
   "outputs": [],
   "source": [
    "import numpy\n",
    "r=numpy.linspace?"
   ]
  },
  {
   "cell_type": "code",
   "execution_count": 54,
   "id": "6b299612",
   "metadata": {},
   "outputs": [
    {
     "name": "stdout",
     "output_type": "stream",
     "text": [
      "[0.         0.55555556 1.11111111 1.66666667 2.22222222 2.77777778\n",
      " 3.33333333 3.88888889 4.44444444 5.        ]\n"
     ]
    }
   ],
   "source": [
    "import numpy\n",
    "print(numpy.linspace(0,5,10))"
   ]
  },
  {
   "cell_type": "code",
   "execution_count": 68,
   "id": "898faefd",
   "metadata": {},
   "outputs": [
    {
     "name": "stdout",
     "output_type": "stream",
     "text": [
      "[[ 1  2  3  4]\n",
      " [ 5  6  7  8]\n",
      " [ 9 10 11 12]]\n"
     ]
    }
   ],
   "source": [
    "import numpy\n",
    "a=numpy.array([[1,2,3],[4,5,6],[7,8,9],[10,11,12]])\n",
    "w=a.reshape((3,4))\n",
    "print(w)"
   ]
  },
  {
   "cell_type": "code",
   "execution_count": 69,
   "id": "a1981e94",
   "metadata": {},
   "outputs": [
    {
     "name": "stdout",
     "output_type": "stream",
     "text": [
      "[1 2 3 4 5 6 7 8 9]\n"
     ]
    }
   ],
   "source": [
    "import numpy\n",
    "w=numpy.array([[1,2,3],[4,5,6],[7,8,9]])\n",
    "x=w.flatten()\n",
    "print(x)"
   ]
  },
  {
   "cell_type": "code",
   "execution_count": 70,
   "id": "171a4615",
   "metadata": {},
   "outputs": [
    {
     "name": "stdout",
     "output_type": "stream",
     "text": [
      "[[-1.   2.   0.   4. ]\n",
      " [ 4.  -5.   6.   0. ]\n",
      " [ 2.6  0.   7.   8. ]\n",
      " [ 3.  -7.   4.   2. ]]\n"
     ]
    }
   ],
   "source": [
    "import numpy\n",
    "r=numpy.array([[-1,2,0,4],[4,-5,6,0],[2.6,0,7,8],[3,-7,4,2.0]])\n",
    "print(r)"
   ]
  },
  {
   "cell_type": "code",
   "execution_count": 74,
   "id": "44451285",
   "metadata": {},
   "outputs": [
    {
     "name": "stdout",
     "output_type": "stream",
     "text": [
      "[[ 4.  -5.   6. ]\n",
      " [ 2.6  0.   7. ]\n",
      " [ 3.  -7.   4. ]]\n"
     ]
    }
   ],
   "source": [
    "print(r[1:,:3])"
   ]
  },
  {
   "cell_type": "code",
   "execution_count": 78,
   "id": "1d1220f6",
   "metadata": {},
   "outputs": [
    {
     "name": "stdout",
     "output_type": "stream",
     "text": [
      "[[-5.  0.]\n",
      " [-7.  2.]]\n"
     ]
    }
   ],
   "source": [
    "print(r[1:4:2,1:4:2])"
   ]
  },
  {
   "cell_type": "code",
   "execution_count": 79,
   "id": "405aeed3",
   "metadata": {},
   "outputs": [
    {
     "name": "stdout",
     "output_type": "stream",
     "text": [
      "[[ 2  3  4  5]\n",
      " [ 6  7  8  9]\n",
      " [10 11 12 13]\n",
      " [14 15 16 17]]\n"
     ]
    }
   ],
   "source": [
    "import numpy\n",
    "t=numpy.array([[1,2,3,4],[5,6,7,8],[9,10,11,12],[13,14,15,16]])\n",
    "print(t+1)"
   ]
  },
  {
   "cell_type": "code",
   "execution_count": 80,
   "id": "6ab49062",
   "metadata": {
    "scrolled": true
   },
   "outputs": [
    {
     "name": "stdout",
     "output_type": "stream",
     "text": [
      "[[ 2  3  4  5  6]\n",
      " [ 7  8  9 10 11]\n",
      " [12 13 14 15 16]]\n",
      "[[ 0  1  2  3  4]\n",
      " [ 5  6  7  8  9]\n",
      " [10 11 12 13 14]]\n",
      "[[ 2  4  6  8 10]\n",
      " [12 14 16 18 20]\n",
      " [22 24 26 28 30]]\n",
      "[[0.5 1.  1.5 2.  2.5]\n",
      " [3.  3.5 4.  4.5 5. ]\n",
      " [5.5 6.  6.5 7.  7.5]]\n",
      "[[1 0 1 0 1]\n",
      " [0 1 0 1 0]\n",
      " [1 0 1 0 1]]\n"
     ]
    }
   ],
   "source": [
    "import numpy\n",
    "e=numpy.array([[1,2,3,4,5],[6,7,8,9,10],[11,12,13,14,15]])\n",
    "print(e+1)\n",
    "print(e-1)\n",
    "print(e*2)\n",
    "print(e/2)\n",
    "print(e%2)"
   ]
  },
  {
   "cell_type": "code",
   "execution_count": 83,
   "id": "d50f006c",
   "metadata": {},
   "outputs": [
    {
     "name": "stdout",
     "output_type": "stream",
     "text": [
      "[[1 2 3]\n",
      " [4 5 6]\n",
      " [7 8 9]]\n",
      "[[1 4 7]\n",
      " [2 5 8]\n",
      " [3 6 9]]\n"
     ]
    }
   ],
   "source": [
    "import numpy\n",
    "a=numpy.array([[1,2,3],[4,5,6],[7,8,9]])\n",
    "print(a)\n",
    "print(a.T)"
   ]
  },
  {
   "cell_type": "code",
   "execution_count": 96,
   "id": "ed01c604",
   "metadata": {},
   "outputs": [
    {
     "name": "stdout",
     "output_type": "stream",
     "text": [
      "[[1 2 3]\n",
      " [4 5 6]\n",
      " [7 8 9]]\n",
      "Max element of array is  9\n",
      "Min element of array is  1\n",
      "Sum of all elements of the array is  45\n",
      "Column wise Max:  [7 8 9]\n",
      "Row wise max elements:  [3 6 9]\n",
      "cumulative sum along each row:  [[ 1  3  6]\n",
      " [ 4  9 15]\n",
      " [ 7 15 24]]\n",
      "Cumulative sum along each column:  [[ 1  2  3]\n",
      " [ 5  7  9]\n",
      " [12 15 18]]\n"
     ]
    }
   ],
   "source": [
    "import numpy\n",
    "r=numpy.array([[1,2,3],[4,5,6],[7,8,9]])\n",
    "print(r)\n",
    "print(\"Max element of array is \",r.max())\n",
    "print(\"Min element of array is \",r.min())\n",
    "print(\"Sum of all elements of the array is \",r.sum())\n",
    "print(\"Column wise Max: \",r.max(axis=0))\n",
    "print(\"Row wise max elements: \",r.max(axis=1))\n",
    "print(\"cumulative sum along each row: \",r.cumsum(axis=1))\n",
    "print(\"Cumulative sum along each column: \",r.cumsum(axis=0))"
   ]
  },
  {
   "cell_type": "code",
   "execution_count": 102,
   "id": "fe017a86",
   "metadata": {},
   "outputs": [
    {
     "name": "stdout",
     "output_type": "stream",
     "text": [
      "[[10 10 10]\n",
      " [10 10 10]\n",
      " [10 10 10]]\n",
      "[[-8 -6 -4]\n",
      " [-2  0  2]\n",
      " [ 4  6  8]]\n",
      "[[ 9 16 21]\n",
      " [24 25 24]\n",
      " [21 16  9]]\n",
      "[[ 30  24  18]\n",
      " [ 84  69  54]\n",
      " [138 114  90]]\n"
     ]
    }
   ],
   "source": [
    "import numpy\n",
    "a=numpy.array([[1,2,3],[4,5,6],[7,8,9]])\n",
    "b=numpy.array([[9,8,7],[6,5,4],[3,2,1]])\n",
    "print(a+b)\n",
    "print(a-b)\n",
    "print(a*b)#Corresponding elements are multiplied\n",
    "print(a.dot(b))"
   ]
  },
  {
   "cell_type": "code",
   "execution_count": 103,
   "id": "94d357b4",
   "metadata": {},
   "outputs": [
    {
     "name": "stdout",
     "output_type": "stream",
     "text": [
      "[[1 2 3]\n",
      " [4 5 6]]\n"
     ]
    }
   ],
   "source": [
    "import numpy\n",
    "a=numpy.array([[1,2,3],[4,5,6]])\n",
    "print(a)"
   ]
  },
  {
   "cell_type": "code",
   "execution_count": 106,
   "id": "4346e06b",
   "metadata": {},
   "outputs": [
    {
     "name": "stdout",
     "output_type": "stream",
     "text": [
      "[0.         1.57079633 3.14159265]\n"
     ]
    }
   ],
   "source": [
    "b=numpy.array([0,numpy.pi/2,numpy.pi])\n",
    "print(b)"
   ]
  },
  {
   "cell_type": "code",
   "execution_count": 107,
   "id": "67c3e566",
   "metadata": {},
   "outputs": [
    {
     "name": "stdout",
     "output_type": "stream",
     "text": [
      "[ 2.71828183  7.3890561  20.08553692]\n"
     ]
    }
   ],
   "source": [
    "c=numpy.array([1,2,3])\n",
    "print(numpy.exp(c))"
   ]
  },
  {
   "cell_type": "code",
   "execution_count": 108,
   "id": "3b48d805",
   "metadata": {},
   "outputs": [
    {
     "name": "stdout",
     "output_type": "stream",
     "text": [
      "[1.         1.41421356 1.73205081]\n"
     ]
    }
   ],
   "source": [
    "d=numpy.array([1,2,3])\n",
    "print(numpy.sqrt(d))"
   ]
  },
  {
   "cell_type": "code",
   "execution_count": 114,
   "id": "22f29909",
   "metadata": {},
   "outputs": [
    {
     "name": "stdout",
     "output_type": "stream",
     "text": [
      "[[ 1  2 40]\n",
      " [ 4  5  9]\n",
      " [ 5  9 90]]\n"
     ]
    }
   ],
   "source": [
    "import numpy\n",
    "a=numpy.array([[1,40,2],[5,4,9],[9,90,5]])\n",
    "a=numpy.sort(a,axis=1)\n",
    "print(a)"
   ]
  },
  {
   "cell_type": "code",
   "execution_count": 115,
   "id": "ec1cce67",
   "metadata": {},
   "outputs": [
    {
     "name": "stdout",
     "output_type": "stream",
     "text": [
      "[[ 1  2  9]\n",
      " [ 4  5 40]\n",
      " [ 5  9 90]]\n"
     ]
    }
   ],
   "source": [
    "a=numpy.sort(a,axis=0)\n",
    "print(a)"
   ]
  },
  {
   "cell_type": "code",
   "execution_count": 116,
   "id": "9f8801e6",
   "metadata": {},
   "outputs": [
    {
     "name": "stdout",
     "output_type": "stream",
     "text": [
      "[[ 1  2  9]\n",
      " [ 4  5 40]\n",
      " [ 5  9 90]]\n"
     ]
    }
   ],
   "source": [
    "print(numpy.sort(a))"
   ]
  },
  {
   "cell_type": "code",
   "execution_count": 126,
   "id": "fdadcfd5",
   "metadata": {},
   "outputs": [
    {
     "name": "stdout",
     "output_type": "stream",
     "text": [
      "[[1 2]\n",
      " [3 4]\n",
      " [5 6]\n",
      " [7 8]]\n",
      "[[1 2 5 6]\n",
      " [3 4 7 8]]\n",
      "[[ 1  2 98]\n",
      " [ 3  4 99]]\n",
      "[[1 2]\n",
      " [3 4]\n",
      " [5 6]\n",
      " [7 8]]\n",
      "[[1 2 5 6]\n",
      " [3 4 7 8]]\n"
     ]
    }
   ],
   "source": [
    "import numpy\n",
    "a=numpy.array([[1,2],[3,4]])\n",
    "b=numpy.array([[5,6],[7,8]])\n",
    "c=numpy.array([98,99])\n",
    "print(numpy.vstack((a,b)))\n",
    "print(numpy.hstack((a,b)))\n",
    "print(numpy.column_stack((a,c)))\n",
    "print(numpy.concatenate((a,b),0))\n",
    "print(numpy.concatenate((a,b),1))"
   ]
  },
  {
   "cell_type": "code",
   "execution_count": 128,
   "id": "2a37f46b",
   "metadata": {},
   "outputs": [
    {
     "name": "stdout",
     "output_type": "stream",
     "text": [
      "[array([[1, 2, 3],\n",
      "       [7, 8, 9]]), array([[ 4,  5,  6],\n",
      "       [10, 11, 12]])]\n"
     ]
    }
   ],
   "source": [
    "import numpy\n",
    "a=numpy.array([[1,2,3,4,5,6],[7,8,9,10,11,12]])\n",
    "print(numpy.hsplit(a,2))"
   ]
  },
  {
   "cell_type": "code",
   "execution_count": 132,
   "id": "d2eaf3da",
   "metadata": {},
   "outputs": [
    {
     "name": "stdout",
     "output_type": "stream",
     "text": [
      "[array([[1, 2, 3, 4, 5, 6]]), array([[ 7,  8,  9, 10, 11, 12]])]\n"
     ]
    }
   ],
   "source": [
    "print(numpy.vsplit(a,2))"
   ]
  },
  {
   "cell_type": "code",
   "execution_count": 135,
   "id": "cb872f11",
   "metadata": {},
   "outputs": [
    {
     "name": "stdout",
     "output_type": "stream",
     "text": [
      "[2. 5. 8.]\n",
      "[4. 5. 6.]\n"
     ]
    }
   ],
   "source": [
    "import numpy\n",
    "a=numpy.array([[1,2,3],[4,5,6],[7,8,9]])\n",
    "print(numpy.mean(a,axis=1))\n",
    "print(numpy.mean(a,axis=0))"
   ]
  },
  {
   "cell_type": "code",
   "execution_count": 144,
   "id": "c5720118",
   "metadata": {},
   "outputs": [
    {
     "name": "stdout",
     "output_type": "stream",
     "text": [
      "3.142857142857143\n",
      "3.0\n",
      "3.142857142857143\n"
     ]
    }
   ],
   "source": [
    "import numpy\n",
    "a=numpy.array([1,2,3,1,4,5,6])\n",
    "w=numpy.array([1,1,1,1,1,1,1])\n",
    "print(numpy.average(a))\n",
    "print(numpy.median(a))\n",
    "print(numpy.average(a,weights=w))"
   ]
  },
  {
   "cell_type": "code",
   "execution_count": null,
   "id": "658b0f0b",
   "metadata": {},
   "outputs": [],
   "source": []
  }
 ],
 "metadata": {
  "kernelspec": {
   "display_name": "Python 3 (ipykernel)",
   "language": "python",
   "name": "python3"
  },
  "language_info": {
   "codemirror_mode": {
    "name": "ipython",
    "version": 3
   },
   "file_extension": ".py",
   "mimetype": "text/x-python",
   "name": "python",
   "nbconvert_exporter": "python",
   "pygments_lexer": "ipython3",
   "version": "3.9.13"
  }
 },
 "nbformat": 4,
 "nbformat_minor": 5
}
